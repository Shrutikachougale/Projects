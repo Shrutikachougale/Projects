{
 "cells": [
  {
   "cell_type": "code",
   "execution_count": 1,
   "metadata": {},
   "outputs": [],
   "source": [
    "import pandas as pd\n",
    "import numpy as np"
   ]
  },
  {
   "cell_type": "code",
   "execution_count": 4,
   "metadata": {},
   "outputs": [],
   "source": [
    "df = pd.read_csv(\"Tourism.csv\")"
   ]
  },
  {
   "cell_type": "code",
   "execution_count": 5,
   "metadata": {},
   "outputs": [
    {
     "data": {
      "text/html": [
       "<div>\n",
       "<style scoped>\n",
       "    .dataframe tbody tr th:only-of-type {\n",
       "        vertical-align: middle;\n",
       "    }\n",
       "\n",
       "    .dataframe tbody tr th {\n",
       "        vertical-align: top;\n",
       "    }\n",
       "\n",
       "    .dataframe thead th {\n",
       "        text-align: right;\n",
       "    }\n",
       "</style>\n",
       "<table border=\"1\" class=\"dataframe\">\n",
       "  <thead>\n",
       "    <tr style=\"text-align: right;\">\n",
       "      <th></th>\n",
       "      <th>subcategories</th>\n",
       "      <th>subtype</th>\n",
       "      <th>name</th>\n",
       "      <th>numberOfReviews</th>\n",
       "      <th>rating</th>\n",
       "      <th>rawRanking</th>\n",
       "      <th>Region</th>\n",
       "      <th>District</th>\n",
       "    </tr>\n",
       "  </thead>\n",
       "  <tbody>\n",
       "    <tr>\n",
       "      <th>0</th>\n",
       "      <td>Zoos &amp; Aquariums, Water &amp; Amusement Parks, Fun...</td>\n",
       "      <td>Theme Parks, Aquariums, Game &amp; Entertainment C...</td>\n",
       "      <td>Goosebumps Virtual Escape</td>\n",
       "      <td>82</td>\n",
       "      <td>5.0</td>\n",
       "      <td>4.418244</td>\n",
       "      <td>North Goa District</td>\n",
       "      <td>Baga</td>\n",
       "    </tr>\n",
       "    <tr>\n",
       "      <th>1</th>\n",
       "      <td>Sights &amp; Landmarks</td>\n",
       "      <td>Ancient Ruins, Architectural Buildings</td>\n",
       "      <td>Walk to blueCity heritagetour</td>\n",
       "      <td>112</td>\n",
       "      <td>5.0</td>\n",
       "      <td>4.416904</td>\n",
       "      <td>Jodhpur District</td>\n",
       "      <td>Jodhpur</td>\n",
       "    </tr>\n",
       "    <tr>\n",
       "      <th>2</th>\n",
       "      <td>Spas &amp; Wellness</td>\n",
       "      <td>Spas</td>\n",
       "      <td>Kerala Ayurveda Kendra</td>\n",
       "      <td>1252</td>\n",
       "      <td>5.0</td>\n",
       "      <td>4.462176</td>\n",
       "      <td>Jaipur District</td>\n",
       "      <td>Jaipur</td>\n",
       "    </tr>\n",
       "    <tr>\n",
       "      <th>3</th>\n",
       "      <td>Fun &amp; Games</td>\n",
       "      <td>Game &amp; Entertainment Centers</td>\n",
       "      <td>Xcapade Adventures</td>\n",
       "      <td>701</td>\n",
       "      <td>5.0</td>\n",
       "      <td>4.450218</td>\n",
       "      <td>Ajmer District</td>\n",
       "      <td>Pushkar</td>\n",
       "    </tr>\n",
       "    <tr>\n",
       "      <th>4</th>\n",
       "      <td>Shopping</td>\n",
       "      <td>Gift &amp; Specialty Shops</td>\n",
       "      <td>Jaipur Blue Pottery Art Centre</td>\n",
       "      <td>1217</td>\n",
       "      <td>5.0</td>\n",
       "      <td>4.452539</td>\n",
       "      <td>Jaipur District</td>\n",
       "      <td>Jaipur</td>\n",
       "    </tr>\n",
       "  </tbody>\n",
       "</table>\n",
       "</div>"
      ],
      "text/plain": [
       "                                       subcategories  \\\n",
       "0  Zoos & Aquariums, Water & Amusement Parks, Fun...   \n",
       "1                                 Sights & Landmarks   \n",
       "2                                    Spas & Wellness   \n",
       "3                                        Fun & Games   \n",
       "4                                           Shopping   \n",
       "\n",
       "                                             subtype  \\\n",
       "0  Theme Parks, Aquariums, Game & Entertainment C...   \n",
       "1             Ancient Ruins, Architectural Buildings   \n",
       "2                                               Spas   \n",
       "3                       Game & Entertainment Centers   \n",
       "4                             Gift & Specialty Shops   \n",
       "\n",
       "                             name  numberOfReviews  rating  rawRanking  \\\n",
       "0       Goosebumps Virtual Escape               82     5.0    4.418244   \n",
       "1   Walk to blueCity heritagetour              112     5.0    4.416904   \n",
       "2          Kerala Ayurveda Kendra             1252     5.0    4.462176   \n",
       "3              Xcapade Adventures              701     5.0    4.450218   \n",
       "4  Jaipur Blue Pottery Art Centre             1217     5.0    4.452539   \n",
       "\n",
       "               Region District  \n",
       "0  North Goa District     Baga  \n",
       "1    Jodhpur District  Jodhpur  \n",
       "2     Jaipur District   Jaipur  \n",
       "3      Ajmer District  Pushkar  \n",
       "4     Jaipur District   Jaipur  "
      ]
     },
     "execution_count": 5,
     "metadata": {},
     "output_type": "execute_result"
    }
   ],
   "source": [
    "df.head()"
   ]
  },
  {
   "cell_type": "code",
   "execution_count": 6,
   "metadata": {},
   "outputs": [],
   "source": [
    "from sklearn.metrics.pairwise import cosine_similarity\n",
    "from sklearn.feature_extraction.text import TfidfVectorizer"
   ]
  },
  {
   "cell_type": "code",
   "execution_count": 7,
   "metadata": {},
   "outputs": [],
   "source": [
    "def calculate_recommendation_score(row):\n",
    "    return row['numberOfReviews'] /row['rawRanking']"
   ]
  },
  {
   "cell_type": "code",
   "execution_count": 11,
   "metadata": {},
   "outputs": [],
   "source": [
    "def recommend_places_with_similarity(dataset, region, subcategory, subtype=None):\n",
    "    if subtype:\n",
    "        filtered_data = dataset[(dataset['Region'] == region) & \n",
    "                                (dataset['subcategories'] == subcategory) & \n",
    "                                (dataset['subtype'] == subtype)].copy()  # Make a copy to avoid the warning\n",
    "    else:\n",
    "        filtered_data = dataset[(dataset['Region'] == region) & \n",
    "                                (dataset['subcategories'] == subcategory)].copy()  # Make a copy to avoid the warning\n",
    "\n",
    "    if filtered_data.empty:\n",
    "        return \"No recommendations found for the selected region and subcategory.\"\n",
    "\n",
    "    filtered_data['recommendation_score'] = filtered_data.apply(calculate_recommendation_score, axis=1)\n",
    "\n",
    "    vectorizer = TfidfVectorizer()\n",
    "    if subtype:\n",
    "        feature_text = filtered_data['subcategories'] + ' ' + filtered_data['subtype'] \n",
    "    else:\n",
    "        feature_text = filtered_data['subcategories']\n",
    "    feature_matrix = vectorizer.fit_transform(feature_text)\n",
    "\n",
    "    similarity_matrix = cosine_similarity(feature_matrix, feature_matrix)\n",
    "\n",
    "    sim_scores = list(enumerate(similarity_matrix[-1]))\n",
    "    sim_scores = sorted(sim_scores, key=lambda x: x[1], reverse=True)\n",
    "    sim_scores = sim_scores[0:]  \n",
    "\n",
    "    top_indices = [x[0] for x in sim_scores]\n",
    "    top_recommendations = filtered_data.iloc[top_indices].sort_values(by=['recommendation_score'], ascending=False)\n",
    "\n",
    "    return top_recommendations[['name', 'rating', 'numberOfReviews', 'recommendation_score']]\n"
   ]
  },
  {
   "cell_type": "code",
   "execution_count": 12,
   "metadata": {},
   "outputs": [
    {
     "name": "stdout",
     "output_type": "stream",
     "text": [
      "                                      name  rating  numberOfReviews  \\\n",
      "324  Wet N Joy Water Park & Amusement Park     4.0              200   \n",
      "\n",
      "     recommendation_score  \n",
      "324             65.391495  \n"
     ]
    }
   ],
   "source": [
    "subtype = 'Water Parks'\n",
    "region = 'Pune District'\n",
    "subcategory = 'Water & Amusement Parks'\n",
    "recommended_places = recommend_places_with_similarity(df, region, subcategory,subtype)\n",
    "print(recommended_places)\n"
   ]
  },
  {
   "cell_type": "code",
   "execution_count": 13,
   "metadata": {},
   "outputs": [
    {
     "name": "stdout",
     "output_type": "stream",
     "text": [
      "                                   name  rating  numberOfReviews  \\\n",
      "15                         Amber Palace     4.5            18542   \n",
      "55                            Jal Mahal     4.0             3932   \n",
      "59                        Monkey Temple     4.0             1959   \n",
      "253                 Govind Devji Temple     4.5              709   \n",
      "95                       Galtaji Temple     4.0              378   \n",
      "159                 Royal Gaitor Tumbas     4.5              335   \n",
      "62   Khole Ke Hanuman JI Temple, Jaipur     4.5              269   \n",
      "240                Gatore Ki Chhatriyan     4.5               92   \n",
      "147                        Patrika Gate     4.5               84   \n",
      "\n",
      "     recommendation_score  \n",
      "15            3708.400000  \n",
      "55            1160.104874  \n",
      "59             559.830522  \n",
      "253            170.659909  \n",
      "95             117.465928  \n",
      "159             85.363957  \n",
      "62              75.253954  \n",
      "240             26.617689  \n",
      "147             23.019665  \n"
     ]
    }
   ],
   "source": [
    "region = 'Jaipur District'\n",
    "subcategory = 'Sights & Landmarks'\n",
    "recommended_places = recommend_places_with_similarity(df, region, subcategory,subtype=None)\n",
    "print(recommended_places)"
   ]
  },
  {
   "cell_type": "code",
   "execution_count": null,
   "metadata": {},
   "outputs": [],
   "source": []
  }
 ],
 "metadata": {
  "kernelspec": {
   "display_name": "Python 3.9 (tensorflow) new",
   "language": "python",
   "name": "tf"
  },
  "language_info": {
   "codemirror_mode": {
    "name": "ipython",
    "version": 3
   },
   "file_extension": ".py",
   "mimetype": "text/x-python",
   "name": "python",
   "nbconvert_exporter": "python",
   "pygments_lexer": "ipython3",
   "version": "3.9.18"
  }
 },
 "nbformat": 4,
 "nbformat_minor": 2
}
